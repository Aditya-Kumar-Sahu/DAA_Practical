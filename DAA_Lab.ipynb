{
 "cells": [
  {
   "cell_type": "markdown",
   "metadata": {},
   "source": [
    "#### Timer Setup"
   ]
  },
  {
   "cell_type": "code",
   "execution_count": 1,
   "metadata": {},
   "outputs": [],
   "source": [
    "from time import perf_counter\n",
    "\n",
    "class TimeError(Exception):\n",
    "    \"\"\"A custom exception used to report errors in use of Timer class\"\"\"\n",
    "\n",
    "class Timer:\n",
    "    def __init__(self) -> None:\n",
    "        self._start_time = None\n",
    "        self._elapsed_time = None\n",
    "\n",
    "    def start(self):\n",
    "        \"\"\"Start a new timer\"\"\"\n",
    "        if self._start_time is not None:\n",
    "            raise TimeError(\"Timer is running. Use .stop()\")\n",
    "        self._start_time = perf_counter()\n",
    "\n",
    "    def stop(self):\n",
    "        \"\"\"Save the the elasped time and re-initialize timer\"\"\"\n",
    "        if self._start_time is None:\n",
    "            raise TimeError(\"Timer is not running. USe .start()\")\n",
    "        self._elapsed_time = perf_counter() - self._start_time\n",
    "        self._start_time = None\n",
    "\n",
    "    def elapsed(self):\n",
    "        \"\"\"Report elapsed time\"\"\"\n",
    "        if self._elapsed_time is None:\n",
    "            raise TimeError(\"Timer has not been run yet. Use .start()\")\n",
    "        return self._elapsed_time\n",
    "    \n",
    "    def __str__(self) -> str:\n",
    "        \"\"\"print() prints elapsed time\"\"\"\n",
    "        return str(self._elapsed_time)"
   ]
  },
  {
   "cell_type": "markdown",
   "metadata": {},
   "source": [
    "## LAB -1 "
   ]
  },
  {
   "cell_type": "markdown",
   "metadata": {},
   "source": [
    "### Objective 1 - Write a python program to implement merge sort and calculate its execution time"
   ]
  },
  {
   "cell_type": "markdown",
   "metadata": {},
   "source": [
    "#### Merge/MergeSort Functions"
   ]
  },
  {
   "cell_type": "code",
   "execution_count": 2,
   "metadata": {},
   "outputs": [],
   "source": [
    "def merge(A,B):\n",
    "    m,n = len(A), len(B)\n",
    "    C,i,j,k = [],0,0,0\n",
    "\n",
    "    while  k<m+n:\n",
    "        if i==m:\n",
    "            C.extend(B[j:])\n",
    "            k = k+(n-j)\n",
    "        elif j==n:\n",
    "            C.extend(A[i:])\n",
    "            k = k+(m-i)\n",
    "        elif A[i] < B[j]:\n",
    "            C.append(A[i])\n",
    "            i,k = i+1, k+1\n",
    "        else:\n",
    "            C.append(B[j])\n",
    "            j,k = j+1, k+1\n",
    "    \n",
    "    return C\n",
    "\n",
    "def mergesort(A):\n",
    "    n = len(A)\n",
    "\n",
    "    if n<=1: return A\n",
    "\n",
    "    L = mergesort(A[:n//2])\n",
    "    R = mergesort(A[n//2:])\n",
    "\n",
    "    return merge(L,R)"
   ]
  },
  {
   "cell_type": "markdown",
   "metadata": {},
   "source": [
    "#### Performance on large inputs (10<sup>6</sup>)"
   ]
  },
  {
   "cell_type": "code",
   "execution_count": 3,
   "metadata": {},
   "outputs": [
    {
     "name": "stdout",
     "output_type": "stream",
     "text": [
      "random 5.4237106000000495\n",
      "ascending 2.489475599999423\n",
      "descending 3.1119935999995505\n"
     ]
    }
   ],
   "source": [
    "from random import randrange\n",
    "inputlists = {}\n",
    "inputlists['random'] = [randrange(100000000000) for i in range(1000000)]\n",
    "inputlists['ascending'] = [i for i in range(1000000)]\n",
    "inputlists['descending'] = [i for i in range(999999,-1,-1)]\n",
    "t = Timer()\n",
    "\n",
    "for k in inputlists.keys():\n",
    "    tmplist = inputlists[k][:]\n",
    "    t.start()\n",
    "    mergesort(tmplist)\n",
    "    t.stop()\n",
    "    print(k,t)"
   ]
  }
 ],
 "metadata": {
  "kernelspec": {
   "display_name": "Python 3",
   "language": "python",
   "name": "python3"
  },
  "language_info": {
   "codemirror_mode": {
    "name": "ipython",
    "version": 3
   },
   "file_extension": ".py",
   "mimetype": "text/x-python",
   "name": "python",
   "nbconvert_exporter": "python",
   "pygments_lexer": "ipython3",
   "version": "3.10.6"
  }
 },
 "nbformat": 4,
 "nbformat_minor": 2
}
